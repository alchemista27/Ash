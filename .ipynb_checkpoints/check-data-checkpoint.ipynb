{
 "cells": [
  {
   "cell_type": "code",
   "execution_count": 2,
   "id": "71857523-bc3b-49bb-8279-e32553b36f12",
   "metadata": {},
   "outputs": [
    {
     "data": {
      "text/html": [
       "<div>\n",
       "<style scoped>\n",
       "    .dataframe tbody tr th:only-of-type {\n",
       "        vertical-align: middle;\n",
       "    }\n",
       "\n",
       "    .dataframe tbody tr th {\n",
       "        vertical-align: top;\n",
       "    }\n",
       "\n",
       "    .dataframe thead th {\n",
       "        text-align: right;\n",
       "    }\n",
       "</style>\n",
       "<table border=\"1\" class=\"dataframe\">\n",
       "  <thead>\n",
       "    <tr style=\"text-align: right;\">\n",
       "      <th></th>\n",
       "      <th>Error Condition</th>\n",
       "      <th>Error Message</th>\n",
       "      <th>Error Type</th>\n",
       "      <th>Solution</th>\n",
       "      <th>Traces</th>\n",
       "    </tr>\n",
       "  </thead>\n",
       "  <tbody>\n",
       "    <tr>\n",
       "      <th>0</th>\n",
       "      <td>post-installation steps were not executed</td>\n",
       "      <td>ORA-29548: Java system class reported: release...</td>\n",
       "      <td>ORA-29548</td>\n",
       "      <td>Execute CJS</td>\n",
       "      <td>\\nDoc ID 2175568.1</td>\n",
       "    </tr>\n",
       "    <tr>\n",
       "      <th>1</th>\n",
       "      <td>Permissions issue</td>\n",
       "      <td>ORA-29532 ORA-29532: Java call terminated by u...</td>\n",
       "      <td>ORA-29532</td>\n",
       "      <td>Grant permissions mentioned in the traces</td>\n",
       "      <td>Enable Traces ALTER SESSION SET EVENTS '29532 ...</td>\n",
       "    </tr>\n",
       "  </tbody>\n",
       "</table>\n",
       "</div>"
      ],
      "text/plain": [
       "                             Error Condition  \\\n",
       "0  post-installation steps were not executed   \n",
       "1                          Permissions issue   \n",
       "\n",
       "                                       Error Message Error Type  \\\n",
       "0  ORA-29548: Java system class reported: release...  ORA-29548   \n",
       "1  ORA-29532 ORA-29532: Java call terminated by u...  ORA-29532   \n",
       "\n",
       "                                    Solution  \\\n",
       "0                                Execute CJS   \n",
       "1  Grant permissions mentioned in the traces   \n",
       "\n",
       "                                              Traces  \n",
       "0                                 \\nDoc ID 2175568.1  \n",
       "1  Enable Traces ALTER SESSION SET EVENTS '29532 ...  "
      ]
     },
     "execution_count": 2,
     "metadata": {},
     "output_type": "execute_result"
    }
   ],
   "source": [
    "# Import data and libraries\n",
    "import pandas as pd\n",
    "\n",
    "data = pd.read_csv('data/Error.csv')\n",
    "\n",
    "data"
   ]
  },
  {
   "cell_type": "code",
   "execution_count": null,
   "id": "f5c393e2-9dc9-415d-9a0a-6c34a2909c4e",
   "metadata": {},
   "outputs": [],
   "source": []
  }
 ],
 "metadata": {
  "kernelspec": {
   "display_name": "Python 3 (ipykernel)",
   "language": "python",
   "name": "python3"
  },
  "language_info": {
   "codemirror_mode": {
    "name": "ipython",
    "version": 3
   },
   "file_extension": ".py",
   "mimetype": "text/x-python",
   "name": "python",
   "nbconvert_exporter": "python",
   "pygments_lexer": "ipython3",
   "version": "3.11.7"
  }
 },
 "nbformat": 4,
 "nbformat_minor": 5
}
